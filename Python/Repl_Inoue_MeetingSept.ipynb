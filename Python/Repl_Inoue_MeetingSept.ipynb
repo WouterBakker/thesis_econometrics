{
 "cells": [
  {
   "cell_type": "markdown",
   "metadata": {},
   "source": [
    "# Replication of Inoue (2008)\n",
    "\n",
    "Some noteworthy points on the paper\n",
    "- GMM should be more efficient than the FE estimator since it is a GLS version of the FE estimator\n",
    "    - Results in lower RMSE\n",
    "- He accounts for asymptotics for S,T stable and N -> inf (group size)\n",
    "    - GMM and OLS both biased and consistent, but GMM more efficient\n",
    "    - Therefore, as group size increases, GMM and OLS should converge to the same value\n",
    "\n",
    "Problems with the implementation\n",
    "\n",
    "- The estimator is implemented correctly\n",
    "    - Yields the same results as verified OLS estimator when GMM weighting matrix equals identity\n",
    "- However, GMM estimates have higher RMSE \n",
    "    - So, somehow the proposed optimal weighting matrix is actually suboptimal (compared to equal weighting), leading to higher RMSE. \n",
    "- Moreover, the RMSE does not decrease as $\\bar{N}$ increases\n",
    "    - Possibly an error in the averaging process? Or the specification of the variances?\n",
    "\n",
    "\n"
   ]
  },
  {
   "cell_type": "markdown",
   "metadata": {},
   "source": [
    "#### Classes that I use to simulate and estimate the data"
   ]
  },
  {
   "cell_type": "code",
   "execution_count": 3,
   "metadata": {},
   "outputs": [],
   "source": [
    "import numpy as np\n",
    "\n",
    "# Implementation of the simulation study of Inoue (2008), slow\n",
    "class GMM_replication():\n",
    "\n",
    "    def simulate(self, S, T, N_bar, var_ds, var_xst, var_zi, var_vzst):\n",
    "        '''\n",
    "        Gamma = individual regressor coefficient\n",
    "        Beta = group regressor coefficient\n",
    "        S = groups\n",
    "        T = time periods\n",
    "        N_bar = average group size\n",
    "        var_ds = variance of group FE\n",
    "        var_xst = variance of group regressor\n",
    "        var_zi = variance of individual regressor + individual error\n",
    "        var_vzst = variance of individual regressor\n",
    "        '''\n",
    "        \n",
    "        # Convert to SD\n",
    "        var_ds = np.sqrt(var_ds)\n",
    "        var_xst = np.sqrt(var_xst)\n",
    "        var_zi = np.sqrt(var_zi)\n",
    "        var_vzst = np.sqrt(var_vzst)\n",
    "        \n",
    "        # Determining group sizes\n",
    "        ## Pi matrix\n",
    "        pis = np.random.uniform(0.3, 0.6, size = S*T)\n",
    "        Pi = np.diag(pis / pis.sum())\n",
    "\n",
    "        group_sizes = np.ceil(np.diag(Pi) * N_bar * S * T).astype(int)\n",
    "\n",
    "        # group_sizes = (np.ones(S*T)*100).astype(int)\n",
    "\n",
    "        N = int(group_sizes.sum())\n",
    "\n",
    "        \n",
    "        var_ai_ei = 1 - var_ds # individual FE + individual error\n",
    "        var_ezi = var_zi - var_vzst\n",
    "\n",
    "        # Generate group FE\n",
    "        d_s = np.random.normal(0, var_ds, S)\n",
    "\n",
    "        # Generate regressors x, v, iid normal\n",
    "        x_st = np.random.normal(0, var_xst, S*T)\n",
    "        v_zst = np.random.normal(0, var_vzst, S)\n",
    "        \n",
    "        # Simulate y_i = S*T\n",
    "        ## Since beta, gamma = 0, the only variation in y_i comes from a_i, d_s, e_i\n",
    "\n",
    "        y_bar_s = []\n",
    "        z_bar_st = []\n",
    "\n",
    "        # z_i = []\n",
    "\n",
    "        for s in range(S):\n",
    "            for t in range(T):\n",
    "                # y_bar\n",
    "                d = d_s[s] # FE for group s\n",
    "                n = group_sizes[s*t]\n",
    "                ai_ei = np.random.normal(0, var_ai_ei, n)\n",
    "                y_bar_s.append(np.mean(ai_ei)+d)\n",
    "                \n",
    "                # z_i\n",
    "                v = v_zst[s]\n",
    "                z = np.random.normal(0, var_ezi, n)\n",
    "                # z_i.append(z)\n",
    "                z_bar_st.append(np.mean(z) + v)\n",
    "                \n",
    "        self.X = np.vstack((x_st, np.array(z_bar_st))).T\n",
    "        self.Y = y_bar_s\n",
    "        self.group_sizes = group_sizes\n",
    "\n",
    "\n",
    "    def estimate(self, X, Y, S, T, group_size_vec):\n",
    "        M = np.kron(np.eye(S), demean(T))\n",
    "        Ts = np.arange(T-1, S*T, T) # Indices of last time-period, to use in T*N vectors\n",
    "        \n",
    "        X1 = M @ X\n",
    "        X2 = np.delete(X1, Ts, axis = 0)\n",
    "        \n",
    "        group_size_mat = np.diag(group_size_vec)\n",
    "        Omega = M@group_size_mat@M\n",
    "        Omega = np.delete(Omega, Ts, axis = 0)\n",
    "        Omega = np.delete(Omega, Ts, axis = 1)\n",
    "        \n",
    "        Omega_inv = np.linalg.inv(Omega)\n",
    "        \n",
    "        Y1 = M @ Y\n",
    "        Y2 = np.delete(Y1, Ts)\n",
    "        \n",
    "        coefs = np.linalg.inv(X2.T @ Omega_inv @ X2) @ X2.T @ Omega_inv @ Y2 \n",
    "\n",
    "        return coefs.tolist()\n",
    "        \n",
    "            \n",
    "    def simulate_estimate(self, S, T, N_bar, var_ds, var_xst, var_zi, var_vzst, reps):\n",
    "        OLS_coefs, GMM_coefs = [], []\n",
    "        \n",
    "        for _ in range(reps):\n",
    "        \n",
    "            self.simulate(S, T, N_bar, var_ds, var_xst, var_zi, var_vzst)\n",
    "\n",
    "            # GMM estimator reduces to OLS with identity weighting matrix\n",
    "            OLS_estimate = self.estimate(self.X, self.Y, S, T, np.ones(S*T))\n",
    "            OLS_coefs.append(OLS_estimate)\n",
    "            # Use optimal weighting matrix\n",
    "            group_sizes_normalized = self.group_sizes / np.sum(self.group_sizes)\n",
    "            GMM_estimate = self.estimate(self.X, self.Y, S, T, group_sizes_normalized)\n",
    "            GMM_coefs.append(GMM_estimate)\n",
    "            \n",
    "            \n",
    "        return [np.array(OLS_coefs), np.array(GMM_coefs)]\n",
    "    \n",
    "    \n",
    "\n",
    "def demean(T):\n",
    "    M_T = np.eye(T) - (1/T) * np.ones((T, T))\n",
    "    return M_T\n",
    "        \n"
   ]
  },
  {
   "cell_type": "markdown",
   "metadata": {},
   "source": [
    "#### Sample simulation/estimation"
   ]
  },
  {
   "cell_type": "code",
   "execution_count": 4,
   "metadata": {},
   "outputs": [
    {
     "name": "stderr",
     "output_type": "stream",
     "text": [
      "/var/folders/16/kwk1bq052rs7qh7_gd27_9r40000gn/T/ipykernel_41651/2404838983.py:32: RuntimeWarning: invalid value encountered in sqrt\n",
      "  np.sqrt(res[0]).mean()\n"
     ]
    },
    {
     "data": {
      "text/plain": [
       "nan"
      ]
     },
     "execution_count": 4,
     "metadata": {},
     "output_type": "execute_result"
    }
   ],
   "source": [
    "# Regressors \n",
    "## X_st = iid normal\n",
    "gamma, beta = 0, 0\n",
    "# Groups\n",
    "S, T = 8, 8\n",
    "\n",
    "# Pi matrix\n",
    "pis = np.random.uniform(size = S*T)\n",
    "Pi = np.diag(pis / pis.sum())\n",
    "\n",
    "N_bar = 256\n",
    "group_sizes = np.ceil(np.diag(Pi) * N_bar * S * T).astype(int)\n",
    "\n",
    "\n",
    "# Variances\n",
    "var_ds = 0.5 # group FE\n",
    "\n",
    "var_xst = 1 # group regressor variance\n",
    "var_zi = 1 # individual regressor + individual error variance\n",
    "var_vzst = 0.5 # individual regressor variance\n",
    "\n",
    "\n",
    "\n",
    "res = GMM_replication().simulate_estimate(S, T, N_bar, var_ds, var_xst, var_zi, var_vzst, 500)\n",
    "# res[0] = estimated coefs for OLS, res[1] = estimated coefs for GMM\n",
    "\n",
    "\n",
    "OLS_MAE = abs(res[0]).mean()\n",
    "GMM_MAE = abs(res[1]).mean()\n",
    "\n",
    "OLS_RMSE = np.sqrt(np.square(res[0]).mean())\n",
    "GMM_RMSE = np.sqrt(np.square(res[1]).mean())\n",
    "\n",
    "\n",
    "\n",
    "print(f\"OLS RMSE: {OLS_RMSE}\\nGMM_RMSE: {GMM_RMSE}\\nRatio: {OLS_RMSE/GMM_RMSE}\")\n"
   ]
  },
  {
   "cell_type": "code",
   "execution_count": 10,
   "metadata": {},
   "outputs": [
    {
     "name": "stdout",
     "output_type": "stream",
     "text": [
      "OLS RMSE: 0.09914368723841958\n",
      "GMM_RMSE: 0.09914368723841958\n",
      "Ratio: 1.0\n"
     ]
    }
   ],
   "source": [
    "OLS_RMSE = np.sqrt(np.square(res[0]).mean())\n",
    "GMM_RMSE = np.sqrt(np.square(res[1]).mean())\n",
    "\n",
    "\n",
    "\n",
    "print(f\"OLS RMSE: {OLS_RMSE}\\nGMM_RMSE: {GMM_RMSE}\\nRatio: {OLS_RMSE/GMM_RMSE}\")"
   ]
  },
  {
   "cell_type": "code",
   "execution_count": null,
   "metadata": {},
   "outputs": [],
   "source": []
  }
 ],
 "metadata": {
  "kernelspec": {
   "display_name": "Python 3",
   "language": "python",
   "name": "python3"
  },
  "language_info": {
   "codemirror_mode": {
    "name": "ipython",
    "version": 3
   },
   "file_extension": ".py",
   "mimetype": "text/x-python",
   "name": "python",
   "nbconvert_exporter": "python",
   "pygments_lexer": "ipython3",
   "version": "3.11.0"
  }
 },
 "nbformat": 4,
 "nbformat_minor": 2
}
