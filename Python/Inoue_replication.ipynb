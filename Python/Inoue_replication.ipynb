{
 "cells": [
  {
   "cell_type": "markdown",
   "metadata": {},
   "source": [
    "# Replication of Inoue (2007)\n",
    "\n",
    "### Replication of the static FE pseudo panel simulation & estimation"
   ]
  },
  {
   "cell_type": "code",
   "execution_count": 1,
   "metadata": {},
   "outputs": [],
   "source": [
    "import numpy as np\n",
    "from class_FE_regression import *"
   ]
  },
  {
   "cell_type": "code",
   "execution_count": 26,
   "metadata": {},
   "outputs": [],
   "source": [
    "# Regressors \n",
    "## X_st = iid normal\n",
    "gamma, beta = 0, 0\n",
    "# Groups\n",
    "S, T = 8, 8\n",
    "\n",
    "\n",
    "# Pi matrix\n",
    "pis = np.random.uniform(0.2, 0.6, size = S*T)\n",
    "Pi = pis / pis.sum()\n",
    "\n",
    "N_bar = 500\n",
    "group_sizes = np.ceil(np.diag(Pi) * N_bar * S * T).astype(int)\n",
    "\n"
   ]
  },
  {
   "cell_type": "code",
   "execution_count": 27,
   "metadata": {},
   "outputs": [
    {
     "data": {
      "text/plain": [
       "array([286, 541, 618, 600, 591, 405, 436, 596, 692, 531, 691, 748, 650,\n",
       "       680, 363, 491, 581, 436, 531, 453, 459, 312, 364, 569, 269, 555,\n",
       "       451, 523, 267, 550, 313, 456, 377, 458, 613, 473, 680, 374, 755,\n",
       "       349, 297, 584, 297, 732, 380, 375, 272, 346, 678, 474, 693, 417,\n",
       "       414, 662, 520, 318, 289, 289, 559, 737, 700, 606, 567, 742])"
      ]
     },
     "execution_count": 27,
     "metadata": {},
     "output_type": "execute_result"
    }
   ],
   "source": [
    "np.diag(group_sizes)"
   ]
  },
  {
   "cell_type": "code",
   "execution_count": 4,
   "metadata": {},
   "outputs": [],
   "source": [
    "# Variances\n",
    "var_ds = 0.5 # group FE\n",
    "\n",
    "var_xst = 1 # group regressor variance\n",
    "var_zi = 1 # individual regressor + individual error variance\n",
    "var_vzst = 0.5 # individual regressor variance\n"
   ]
  },
  {
   "cell_type": "code",
   "execution_count": 7,
   "metadata": {},
   "outputs": [
    {
     "data": {
      "text/plain": [
       "[[[0.003363975345767575, -0.22190134550663382],\n",
       "  [0.0014431228369621686, -0.14262941028004558],\n",
       "  [0.00446591615782548, -0.2550119847384396]],\n",
       " [[0.005876696887538435, -0.20267956688659733],\n",
       "  [0.009122882042595508, 0.2046223194069884],\n",
       "  [0.002878577761489903, -0.13883072587013137]]]"
      ]
     },
     "execution_count": 7,
     "metadata": {},
     "output_type": "execute_result"
    }
   ],
   "source": [
    "GMM_replication().simulate_estimate(S, T, N_bar, var_ds, var_xst, var_zi, var_vzst, 3)"
   ]
  }
 ],
 "metadata": {
  "kernelspec": {
   "display_name": "Python 3",
   "language": "python",
   "name": "python3"
  },
  "language_info": {
   "codemirror_mode": {
    "name": "ipython",
    "version": 3
   },
   "file_extension": ".py",
   "mimetype": "text/x-python",
   "name": "python",
   "nbconvert_exporter": "python",
   "pygments_lexer": "ipython3",
   "version": "3.11.0"
  }
 },
 "nbformat": 4,
 "nbformat_minor": 2
}
