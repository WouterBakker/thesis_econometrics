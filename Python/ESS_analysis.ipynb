{
 "cells": [
  {
   "cell_type": "markdown",
   "metadata": {},
   "source": [
    "# Data missingness"
   ]
  },
  {
   "cell_type": "code",
   "execution_count": 195,
   "metadata": {},
   "outputs": [],
   "source": [
    "import pandas as pd\n",
    "import numpy as np \n",
    "import os\n",
    "from pathlib import Path"
   ]
  },
  {
   "cell_type": "code",
   "execution_count": 196,
   "metadata": {},
   "outputs": [
    {
     "name": "stderr",
     "output_type": "stream",
     "text": [
      "C:\\Users\\wotererio_user\\AppData\\Local\\Temp\\ipykernel_2556\\3488960897.py:1: DtypeWarning: Columns (27) have mixed types. Specify dtype option on import or set low_memory=False.\n",
      "  df = pd.read_csv(f\"{Path.cwd().parent.parent}/ESS/ESS_data.csv\")\n"
     ]
    }
   ],
   "source": [
    "df = pd.read_csv(f\"{Path.cwd().parent.parent}/ESS/ESS_data.csv\")"
   ]
  },
  {
   "cell_type": "code",
   "execution_count": 197,
   "metadata": {},
   "outputs": [
    {
     "name": "stdout",
     "output_type": "stream",
     "text": [
      "Index(['name', 'essround', 'edition', 'proddate', 'idno', 'cntry', 'dweight',\n",
      "       'pspwght', 'pweight', 'anweight', 'prob', 'stratum', 'psu', 'lrscale',\n",
      "       'stfdem', 'stfeco', 'stfedu', 'stfgov', 'stfhlth', 'stflife', 'trstep',\n",
      "       'trstplt', 'trstsci', 'gndr', 'age', 'agea', 'eisced', 'region',\n",
      "       'regunit'],\n",
      "      dtype='object')\n"
     ]
    }
   ],
   "source": [
    "print(df.columns)"
   ]
  },
  {
   "cell_type": "markdown",
   "metadata": {},
   "source": [
    "# Create the pseudo panel dataset\n",
    "- ESS strata:\n",
    "    - gender, age, education, geographical region"
   ]
  },
  {
   "cell_type": "code",
   "execution_count": 198,
   "metadata": {},
   "outputs": [],
   "source": [
    "# Create category corresponding to Age weight\n",
    "# Define a function to categorize the 'agea' values\n",
    "def categorize_age(age):\n",
    "    if pd.isna(age) or age == 0:\n",
    "        return 0  # Missing\n",
    "    elif 15 <= age <= 34:\n",
    "        return 1  # 15-34 years old\n",
    "    elif 35 <= age <= 54:\n",
    "        return 2  # 35-54 years old\n",
    "    elif age >= 55:\n",
    "        return 3  # 55+ years old\n",
    "    else:\n",
    "        return 0  # Default to Missing for any unexpected values\n",
    "    \n",
    "\n",
    "# Function to map the education level to a 3-point scale\n",
    "def categorize_education(level):\n",
    "    if level in [1, 2]:\n",
    "        return 1  # Basic Education\n",
    "    elif level in [3, 4]:\n",
    "        return 2  # Secondary Education & Vocational Training\n",
    "    elif level in [5, 6, 7]:\n",
    "        return 3  # Tertiary Education\n",
    "    else:\n",
    "        return None  # Handle unexpected values, if any\n",
    "\n"
   ]
  },
  {
   "cell_type": "code",
   "execution_count": 199,
   "metadata": {},
   "outputs": [],
   "source": [
    "# Subset data for which info about education is available\n",
    "## ES - ISCED = highest level of education\n",
    "df = df[df.eisced < 10]\n",
    "df = df[df.eisced != 0] # remove observations for which the eisced could not be harmonised \n",
    "df = df[df.essround < 11] # remove round 11, no post stratification weights available yet\n",
    "df = df[df.gndr != 9] # remove people without gender\n",
    "df['weight'] = df.pspwght * df.pweight\n",
    "\n",
    "# Apply the function to create a new column 'age_group'\n",
    "df['age_group'] = df['agea'].apply(categorize_age)\n",
    "df = df[df.age_group != 0]\n",
    "\n",
    "# Apply the function to create a new column with the 3-point scale\n",
    "df['education_group'] = df['eisced'].apply(categorize_education)\n",
    "df = df[df.education_group != 0]\n",
    "\n",
    "variables_of_interest = ['lrscale', 'stfdem', 'stfeco', 'stfgov', 'stflife']\n",
    "grouping_variables = ['cntry', 'gndr', 'age_group', 'education_group', 'essround'] # create cohorts\n"
   ]
  },
  {
   "cell_type": "code",
   "execution_count": 200,
   "metadata": {},
   "outputs": [],
   "source": [
    "observations_per_cohort = df.groupby(grouping_variables).size()"
   ]
  },
  {
   "cell_type": "code",
   "execution_count": null,
   "metadata": {},
   "outputs": [],
   "source": []
  },
  {
   "cell_type": "markdown",
   "metadata": {},
   "source": [
    "---------------"
   ]
  }
 ],
 "metadata": {
  "kernelspec": {
   "display_name": "Python 3",
   "language": "python",
   "name": "python3"
  },
  "language_info": {
   "codemirror_mode": {
    "name": "ipython",
    "version": 3
   },
   "file_extension": ".py",
   "mimetype": "text/x-python",
   "name": "python",
   "nbconvert_exporter": "python",
   "pygments_lexer": "ipython3",
   "version": "3.12.1"
  }
 },
 "nbformat": 4,
 "nbformat_minor": 2
}
